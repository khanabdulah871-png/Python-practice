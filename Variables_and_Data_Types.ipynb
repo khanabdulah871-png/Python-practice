{
  "nbformat": 4,
  "nbformat_minor": 0,
  "metadata": {
    "colab": {
      "provenance": [],
      "mount_file_id": "1qmNcUpWTYVH-iY9dOwaaXwDuZOFs5cGl",
      "authorship_tag": "ABX9TyPI/d63+3hc+/bGk6mh3qiu",
      "include_colab_link": true
    },
    "kernelspec": {
      "name": "python3",
      "display_name": "Python 3"
    },
    "language_info": {
      "name": "python"
    }
  },
  "cells": [
    {
      "cell_type": "markdown",
      "metadata": {
        "id": "view-in-github",
        "colab_type": "text"
      },
      "source": [
        "<a href=\"https://colab.research.google.com/github/khanabdulah871-png/Python-practice/blob/main/Variables_and_Data_Types.ipynb\" target=\"_parent\"><img src=\"https://colab.research.google.com/assets/colab-badge.svg\" alt=\"Open In Colab\"/></a>"
      ]
    },
    {
      "cell_type": "code",
      "execution_count": null,
      "metadata": {
        "colab": {
          "base_uri": "https://localhost:8080/"
        },
        "id": "C5thOwgaxU3k",
        "outputId": "dbf506cb-2249-48e0-ddac-29d1b36aa85f"
      },
      "outputs": [
        {
          "output_type": "stream",
          "name": "stdout",
          "text": [
            "5\n",
            "Abdullah\n"
          ]
        }
      ],
      "source": [
        "x = 5\n",
        "y = \"Abdullah\"\n",
        "print(x)\n",
        "print(y)"
      ]
    },
    {
      "cell_type": "code",
      "source": [
        "#Casting\n",
        "x = str(4)\n",
        "y = int(3)\n",
        "z = float(9)\n",
        "print(x)\n",
        "print(y)\n",
        "print(z)"
      ],
      "metadata": {
        "colab": {
          "base_uri": "https://localhost:8080/"
        },
        "id": "qJk8iLzBxjEx",
        "outputId": "be785bd7-afa7-4c28-a865-80127029c369"
      },
      "execution_count": null,
      "outputs": [
        {
          "output_type": "stream",
          "name": "stdout",
          "text": [
            "4\n",
            "3\n",
            "9.0\n"
          ]
        }
      ]
    },
    {
      "cell_type": "code",
      "source": [
        "x = 5\n",
        "y = \"Jhon\"\n",
        "print(type(x))\n",
        "print(type(y))"
      ],
      "metadata": {
        "colab": {
          "base_uri": "https://localhost:8080/"
        },
        "id": "qsG6mOKpx0GD",
        "outputId": "d9b232b9-81ae-4472-def2-3d54018e981a"
      },
      "execution_count": null,
      "outputs": [
        {
          "output_type": "stream",
          "name": "stdout",
          "text": [
            "<class 'int'>\n",
            "<class 'str'>\n"
          ]
        }
      ]
    },
    {
      "cell_type": "code",
      "source": [
        "x, y, z = \"Abdullah\", 5, 2.0\n",
        "print(x)\n",
        "print(y)\n",
        "print(z)"
      ],
      "metadata": {
        "colab": {
          "base_uri": "https://localhost:8080/"
        },
        "id": "wFx_ZtzgyED4",
        "outputId": "780dde07-9e43-44a8-c07d-35748cc62954"
      },
      "execution_count": null,
      "outputs": [
        {
          "output_type": "stream",
          "name": "stdout",
          "text": [
            "Abdullah\n",
            "5\n",
            "2.0\n"
          ]
        }
      ]
    },
    {
      "cell_type": "code",
      "source": [
        "fruits = [\"Apple\", \"Banana\", \"Kiwi\", 34]\n",
        "x, y, z, a = fruits\n",
        "print(x)\n",
        "print(y)\n",
        "print(z)\n",
        "print(a)"
      ],
      "metadata": {
        "colab": {
          "base_uri": "https://localhost:8080/"
        },
        "id": "7OnQ3LVMyUfF",
        "outputId": "8bdb47b2-2284-4a11-c0c4-6480f7a3f328"
      },
      "execution_count": null,
      "outputs": [
        {
          "output_type": "stream",
          "name": "stdout",
          "text": [
            "Apple\n",
            "Banana\n",
            "Kiwi\n",
            "34\n"
          ]
        }
      ]
    },
    {
      "cell_type": "code",
      "source": [
        "a = \"My\"\n",
        "b = \"name\"\n",
        "c = \"is\"\n",
        "d = \"Abdullah Khan\"\n",
        "print(a+b+c+d)"
      ],
      "metadata": {
        "colab": {
          "base_uri": "https://localhost:8080/"
        },
        "id": "s-nTNSBByrQ6",
        "outputId": "2c8f90ea-7d81-44c9-d4b1-190e8e230c5b"
      },
      "execution_count": null,
      "outputs": [
        {
          "output_type": "stream",
          "name": "stdout",
          "text": [
            "MynameisAbdullah Khan\n"
          ]
        }
      ]
    },
    {
      "cell_type": "code",
      "source": [
        "#global variables\n",
        "x = \"awesome\"\n",
        "def myfunc():\n",
        "  print(\"Python is\", x)\n",
        "myfunc()"
      ],
      "metadata": {
        "colab": {
          "base_uri": "https://localhost:8080/"
        },
        "id": "H3VOMrm3z09U",
        "outputId": "9387722c-3257-48f5-8ab5-aa95e66922f2"
      },
      "execution_count": null,
      "outputs": [
        {
          "output_type": "stream",
          "name": "stdout",
          "text": [
            "Python is awesome\n"
          ]
        }
      ]
    },
    {
      "cell_type": "code",
      "source": [
        "x = \"awesome\"\n",
        "def myfunc():\n",
        "  x = \"fantastic\"\n",
        "  print(\"Python is\", x)\n",
        "myfunc()\n",
        "print(\"python is\", x)"
      ],
      "metadata": {
        "colab": {
          "base_uri": "https://localhost:8080/"
        },
        "id": "C-Gzj9Lq0ThV",
        "outputId": "9972a3d9-fe73-4f39-fafe-a44027401e49"
      },
      "execution_count": null,
      "outputs": [
        {
          "output_type": "stream",
          "name": "stdout",
          "text": [
            "Python is fantastic\n",
            "python is awesome\n"
          ]
        }
      ]
    },
    {
      "cell_type": "code",
      "source": [
        "x = \"awesome\"\n",
        "def myfunc():\n",
        "  global x\n",
        "  x = \"fantastic\"\n",
        "\n",
        "myfunc()\n",
        "print(\"python is\", x)"
      ],
      "metadata": {
        "colab": {
          "base_uri": "https://localhost:8080/"
        },
        "id": "tzzn-p8H0klH",
        "outputId": "99df9ae5-969a-4fa2-8dba-966e31fd7c94"
      },
      "execution_count": null,
      "outputs": [
        {
          "output_type": "stream",
          "name": "stdout",
          "text": [
            "python is fantastic\n"
          ]
        }
      ]
    },
    {
      "cell_type": "code",
      "source": [
        "list = [\"Apple\", \"Banana\", \"Kiwi\", \"Mango\"]\n",
        "print(len(list))"
      ],
      "metadata": {
        "colab": {
          "base_uri": "https://localhost:8080/"
        },
        "id": "tax6o20z03pe",
        "outputId": "c76f89d4-afa2-4786-c8c5-2d91664722f5"
      },
      "execution_count": null,
      "outputs": [
        {
          "output_type": "stream",
          "name": "stdout",
          "text": [
            "4\n"
          ]
        }
      ]
    },
    {
      "cell_type": "code",
      "source": [
        "list2 = [\"34\", 87, 90.00, \"Apple\"]\n",
        "print(type(list2))"
      ],
      "metadata": {
        "colab": {
          "base_uri": "https://localhost:8080/"
        },
        "id": "en5c1nn18QKw",
        "outputId": "59f8f6dc-1250-417e-c8af-9717d675eec4"
      },
      "execution_count": null,
      "outputs": [
        {
          "output_type": "stream",
          "name": "stdout",
          "text": [
            "<class 'list'>\n"
          ]
        }
      ]
    },
    {
      "cell_type": "code",
      "source": [
        "list3 = [\"apple\", 34, 45.0, \"Abdullah\"]\n",
        "print(list3[1])\n",
        "print(list3[0])\n",
        "print(list3[3])\n",
        "print(list3[-1])"
      ],
      "metadata": {
        "colab": {
          "base_uri": "https://localhost:8080/"
        },
        "id": "XPj8WvKE8h3s",
        "outputId": "334d1ddb-4f49-4f88-c3be-494b37b269bc"
      },
      "execution_count": null,
      "outputs": [
        {
          "output_type": "stream",
          "name": "stdout",
          "text": [
            "34\n",
            "apple\n",
            "Abdullah\n",
            "Abdullah\n"
          ]
        }
      ]
    },
    {
      "cell_type": "code",
      "source": [
        "thislist = [\"apple\", \"banana\", \"cherry\", \"orange\", \"kiwi\", \"melon\", \"mango\"]\n",
        "print(thislist[2:5])"
      ],
      "metadata": {
        "colab": {
          "base_uri": "https://localhost:8080/"
        },
        "id": "tJhu7kbY8yG2",
        "outputId": "d6d03bc0-b5f5-4433-ccdd-19828a677e40"
      },
      "execution_count": null,
      "outputs": [
        {
          "output_type": "stream",
          "name": "stdout",
          "text": [
            "['cherry', 'orange', 'kiwi']\n"
          ]
        }
      ]
    },
    {
      "cell_type": "code",
      "source": [
        "list3 = [\"apple\", 34, 45.0, \"Abdullah\"]\n",
        "thislist = [\"apple\", \"banana\", \"cherry\", \"orange\", \"kiwi\", \"melon\", \"mango\"]\n",
        "newlist = list3 + thislist\n",
        "print(newlist)"
      ],
      "metadata": {
        "colab": {
          "base_uri": "https://localhost:8080/"
        },
        "id": "pfRk6JCu9KgC",
        "outputId": "fc85f5f8-ce8e-4d4a-c4fd-ca8ed1ff0528"
      },
      "execution_count": null,
      "outputs": [
        {
          "output_type": "stream",
          "name": "stdout",
          "text": [
            "['apple', 34, 45.0, 'Abdullah', 'apple', 'banana', 'cherry', 'orange', 'kiwi', 'melon', 'mango']\n"
          ]
        }
      ]
    },
    {
      "cell_type": "code",
      "source": [
        "items = ['apple', 34, 45.0, 'Abdullah', 'apple', 'banana', 'cherry', 'orange', 'kiwi', 'melon', 'mango']\n",
        "print(items[3:6])"
      ],
      "metadata": {
        "colab": {
          "base_uri": "https://localhost:8080/"
        },
        "id": "w_tkB5QE9WfA",
        "outputId": "2d9d3017-d263-4bce-99e9-4fb2a12d3744"
      },
      "execution_count": null,
      "outputs": [
        {
          "output_type": "stream",
          "name": "stdout",
          "text": [
            "['Abdullah', 'apple', 'banana']\n"
          ]
        }
      ]
    },
    {
      "cell_type": "code",
      "source": [
        "items = ['apple', 34, 45.0, 'Abdullah', 'apple', 'banana', 'cherry', 'orange', 'kiwi', 'melon', 'mango']\n",
        "print(items[:7])"
      ],
      "metadata": {
        "colab": {
          "base_uri": "https://localhost:8080/"
        },
        "id": "PvggQnQD9hwI",
        "outputId": "6f038031-b4f6-4d03-a24c-9f44c1edffce"
      },
      "execution_count": null,
      "outputs": [
        {
          "output_type": "stream",
          "name": "stdout",
          "text": [
            "['apple', 34, 45.0, 'Abdullah', 'apple', 'banana', 'cherry']\n"
          ]
        }
      ]
    },
    {
      "cell_type": "code",
      "source": [
        "items = ['apple', 34, 45.0, 'Abdullah', 'apple', 'banana', 'cherry', 'orange', 'kiwi', 'melon', 'mango']\n",
        "print(len(items))"
      ],
      "metadata": {
        "colab": {
          "base_uri": "https://localhost:8080/"
        },
        "id": "qFuVpkak9wFy",
        "outputId": "7d662e84-63c9-4177-e904-3f1614bcdde2"
      },
      "execution_count": null,
      "outputs": [
        {
          "output_type": "stream",
          "name": "stdout",
          "text": [
            "11\n"
          ]
        }
      ]
    },
    {
      "cell_type": "code",
      "source": [
        "print(items[-1])\n",
        "print(items[-4])\n",
        "print(items[-3])"
      ],
      "metadata": {
        "colab": {
          "base_uri": "https://localhost:8080/"
        },
        "id": "heioYxG1-AES",
        "outputId": "c27234ec-1150-4274-bf5e-153c66fdac1c"
      },
      "execution_count": null,
      "outputs": [
        {
          "output_type": "stream",
          "name": "stdout",
          "text": [
            "mango\n",
            "orange\n",
            "kiwi\n"
          ]
        }
      ]
    },
    {
      "cell_type": "code",
      "source": [
        "items = ['apple', 34, 45.0, 'Abdullah', 'apple', 'banana', 'cherry', 'orange', 'kiwi', 'melon', 'mango']\n",
        "if \"apple\" in items:\n",
        "  print(\"Yes! Apple is present in the list\")"
      ],
      "metadata": {
        "colab": {
          "base_uri": "https://localhost:8080/"
        },
        "id": "XNcfk2LB-GvT",
        "outputId": "a04bafc6-8ca1-4340-94b4-ac82b2833e97"
      },
      "execution_count": null,
      "outputs": [
        {
          "output_type": "stream",
          "name": "stdout",
          "text": [
            "Yes! Apple is present in the list\n"
          ]
        }
      ]
    },
    {
      "cell_type": "code",
      "source": [
        "items = ['apple', 34, 45.0, 'Abdullah', 'apple', 'banana', 'cherry', 'orange', 'kiwi', 'melon', 'mango']\n",
        "items[2:6] = [\"Watermelon\", \"Orange\"]\n",
        "print(items)"
      ],
      "metadata": {
        "colab": {
          "base_uri": "https://localhost:8080/"
        },
        "id": "amVEG-mF-ggX",
        "outputId": "e970298d-9c22-4921-e175-fbcc4b305b4c"
      },
      "execution_count": null,
      "outputs": [
        {
          "output_type": "stream",
          "name": "stdout",
          "text": [
            "['apple', 34, 'Watermelon', 'Orange', 'cherry', 'orange', 'kiwi', 'melon', 'mango']\n"
          ]
        }
      ]
    },
    {
      "cell_type": "code",
      "source": [
        "products = ['apple', 34, 'Watermelon', 'Orange', 'cherry', 'orange', 'kiwi', 'melon', 'mango']\n",
        "products.insert(3, \"Abdullah_Khan\")\n",
        "print(products)"
      ],
      "metadata": {
        "colab": {
          "base_uri": "https://localhost:8080/"
        },
        "id": "vBbDDf0A-v8o",
        "outputId": "982ebc91-0cbe-4a6f-e2a2-e7b3bb80f9dc"
      },
      "execution_count": null,
      "outputs": [
        {
          "output_type": "stream",
          "name": "stdout",
          "text": [
            "['apple', 34, 'Watermelon', 'Abdullah_Khan', 'Orange', 'cherry', 'orange', 'kiwi', 'melon', 'mango']\n"
          ]
        }
      ]
    },
    {
      "cell_type": "code",
      "source": [
        " X = ['apple', 34, 'Watermelon', 'Orange', 'cherry', 'orange', 'kiwi', 'melon', 'mango']\n",
        " X.append(90)\n",
        " print(X)"
      ],
      "metadata": {
        "colab": {
          "base_uri": "https://localhost:8080/"
        },
        "id": "KaJm53FJAOki",
        "outputId": "647c3412-d998-4d1c-a3de-0c5feae970cd"
      },
      "execution_count": null,
      "outputs": [
        {
          "output_type": "stream",
          "name": "stdout",
          "text": [
            "['apple', 34, 'Watermelon', 'Orange', 'cherry', 'orange', 'kiwi', 'melon', 'mango', 90]\n"
          ]
        }
      ]
    },
    {
      "cell_type": "code",
      "source": [
        "X = ['apple', 34, 'Watermelon', 'Orange', 'cherry', 'orange', 'kiwi', 'melon', 'mango']\n",
        "items = ['apple', 34, 45.0, 'Abdullah', 'apple', 'banana', 'cherry', 'orange', 'kiwi', 'melon', 'mango']\n",
        "X.extend(items)\n",
        "print(X)"
      ],
      "metadata": {
        "colab": {
          "base_uri": "https://localhost:8080/"
        },
        "id": "R0sNM62CDc4s",
        "outputId": "51171607-b060-4978-d49d-df9d5bb212ae"
      },
      "execution_count": null,
      "outputs": [
        {
          "output_type": "stream",
          "name": "stdout",
          "text": [
            "['apple', 34, 'Watermelon', 'Orange', 'cherry', 'orange', 'kiwi', 'melon', 'mango', 'apple', 34, 45.0, 'Abdullah', 'apple', 'banana', 'cherry', 'orange', 'kiwi', 'melon', 'mango']\n"
          ]
        }
      ]
    },
    {
      "cell_type": "code",
      "source": [
        "items = ['apple', 34, 45.0, 'Abdullah', 'apple', 'banana', 'cherry', 'orange', 'kiwi', 'melon', 'mango']\n",
        "items.remove(45.0)\n",
        "print(items)"
      ],
      "metadata": {
        "colab": {
          "base_uri": "https://localhost:8080/"
        },
        "id": "2-EM7UJzDvzp",
        "outputId": "3982c0e0-ca44-415b-f9fd-f74921869779"
      },
      "execution_count": null,
      "outputs": [
        {
          "output_type": "stream",
          "name": "stdout",
          "text": [
            "['apple', 34, 'Abdullah', 'apple', 'banana', 'cherry', 'orange', 'kiwi', 'melon', 'mango']\n"
          ]
        }
      ]
    },
    {
      "cell_type": "code",
      "source": [
        "Y = [\"Apple\", \"Banana\", \"Watermelon\", \"peech\", 76]\n",
        "Y.pop(4)\n",
        "print(Y)"
      ],
      "metadata": {
        "colab": {
          "base_uri": "https://localhost:8080/"
        },
        "id": "nrMA1fxLD8qN",
        "outputId": "3fcbd00f-d993-427f-c3ca-6ccb9cd90e3a"
      },
      "execution_count": null,
      "outputs": [
        {
          "output_type": "stream",
          "name": "stdout",
          "text": [
            "['Apple', 'Banana', 'Watermelon', 'peech']\n"
          ]
        }
      ]
    },
    {
      "cell_type": "code",
      "source": [
        "\n",
        "del Y[2]\n",
        "print(Y)"
      ],
      "metadata": {
        "colab": {
          "base_uri": "https://localhost:8080/"
        },
        "id": "hznbnoh4ELDA",
        "outputId": "c40d8191-e8cc-4fea-faa5-82c25dc10fac"
      },
      "execution_count": null,
      "outputs": [
        {
          "output_type": "stream",
          "name": "stdout",
          "text": [
            "['Apple', 'Banana', 'peech', 76]\n"
          ]
        }
      ]
    },
    {
      "cell_type": "code",
      "source": [],
      "metadata": {
        "id": "gN1lElnyEpJh"
      },
      "execution_count": null,
      "outputs": []
    },
    {
      "cell_type": "markdown",
      "source": [
        "Loops in Lists"
      ],
      "metadata": {
        "id": "QyFoNxV08lOP"
      }
    },
    {
      "cell_type": "code",
      "source": [
        "#for loop\n",
        "list = [12, \"Abdullah\", \"Car\", 78.90]\n",
        "for x in list:\n",
        "  print(x)"
      ],
      "metadata": {
        "colab": {
          "base_uri": "https://localhost:8080/"
        },
        "id": "S1K-WV4X8paN",
        "outputId": "b184acb0-6142-430d-af88-172c1b319af0"
      },
      "execution_count": null,
      "outputs": [
        {
          "output_type": "stream",
          "name": "stdout",
          "text": [
            "12\n",
            "Abdullah\n",
            "Car\n",
            "78.9\n"
          ]
        }
      ]
    },
    {
      "cell_type": "code",
      "source": [
        "list2 = [30, \"Apple\", \"ABCD\", 0.1298]\n",
        "for i in range(len(list2)):\n",
        "   print(list[i])"
      ],
      "metadata": {
        "colab": {
          "base_uri": "https://localhost:8080/"
        },
        "id": "TAVcK-ku859l",
        "outputId": "6005f49b-c2c4-4bfc-decb-07d223f79a10"
      },
      "execution_count": null,
      "outputs": [
        {
          "output_type": "stream",
          "name": "stdout",
          "text": [
            "list[0]\n",
            "list[1]\n",
            "list[2]\n",
            "list[3]\n"
          ]
        }
      ]
    },
    {
      "cell_type": "code",
      "source": [
        "list2 = [30, \"Apple\", \"ABCD\", 0.1298]\n",
        "Y = [\"iphone\", \"Banana\", \"Watermelon\", \"peech\", 76]\n",
        "L = list2 + Y\n",
        "print(L)\n",
        "\n",
        "\n",
        "i = 0\n",
        "while i < len(L):\n",
        "  print(L[i])\n",
        "  i = i + 1"
      ],
      "metadata": {
        "colab": {
          "base_uri": "https://localhost:8080/"
        },
        "id": "HGHdV-yFSfHQ",
        "outputId": "03b67700-3466-4081-b74c-96c4ac75a065"
      },
      "execution_count": null,
      "outputs": [
        {
          "output_type": "stream",
          "name": "stdout",
          "text": [
            "[30, 'Apple', 'ABCD', 0.1298, 'iphone', 'Banana', 'Watermelon', 'peech', 76]\n",
            "30\n",
            "Apple\n",
            "ABCD\n",
            "0.1298\n",
            "iphone\n",
            "Banana\n",
            "Watermelon\n",
            "peech\n",
            "76\n"
          ]
        }
      ]
    },
    {
      "cell_type": "code",
      "source": [
        "fruits = [\"apple\", \"banana\", \"cherry\", \"kiwi\", \"mango\"]\n",
        "newlist = []\n",
        "\n",
        "for x in fruits:\n",
        "  if \"a\" in x:\n",
        "    newlist.append(x)\n",
        "\n",
        "print(newlist)"
      ],
      "metadata": {
        "colab": {
          "base_uri": "https://localhost:8080/"
        },
        "id": "m-9-ZxiaTFKR",
        "outputId": "c3f60fcd-6f57-4fa7-a20d-3c2e1079e505"
      },
      "execution_count": null,
      "outputs": [
        {
          "output_type": "stream",
          "name": "stdout",
          "text": [
            "['apple', 'banana', 'mango']\n"
          ]
        }
      ]
    },
    {
      "cell_type": "code",
      "source": [
        "list2 = [\"Apple\", \"ABCD\"]\n",
        "Y = [\"iphone\", \"Banana\", \"Watermelon\", \"peech\"]\n",
        "L = list2 + Y\n",
        "print(\"Before sorting:\", L)\n",
        "\n",
        "L.sort()\n",
        "print(\"After sorting :\", L)"
      ],
      "metadata": {
        "colab": {
          "base_uri": "https://localhost:8080/"
        },
        "id": "0sLMYxujUgMW",
        "outputId": "006c1dc5-1e11-4b40-d37d-2137b6f3a870"
      },
      "execution_count": null,
      "outputs": [
        {
          "output_type": "stream",
          "name": "stdout",
          "text": [
            "Before sorting: ['Apple', 'ABCD', 'iphone', 'Banana', 'Watermelon', 'peech']\n",
            "After sorting : ['ABCD', 'Apple', 'Banana', 'Watermelon', 'iphone', 'peech']\n"
          ]
        }
      ]
    },
    {
      "cell_type": "code",
      "source": [
        "A = [\"Car\", \"iphone\", \"Laptop\", \"pen\", \"fan\"]\n",
        "print(\"Before sorting :\", A)\n",
        "\n",
        "A.sort(reverse=True)\n",
        "print(\"After sorting :\", A)"
      ],
      "metadata": {
        "colab": {
          "base_uri": "https://localhost:8080/"
        },
        "id": "ryTU7EpzVG_K",
        "outputId": "915cb4a3-b689-4c61-d58b-cb953bde2808"
      },
      "execution_count": null,
      "outputs": [
        {
          "output_type": "stream",
          "name": "stdout",
          "text": [
            "Before sorting : ['Car', 'iphone', 'Laptop', 'pen', 'fan']\n",
            "After sorting : ['pen', 'iphone', 'fan', 'Laptop', 'Car']\n"
          ]
        }
      ]
    },
    {
      "cell_type": "code",
      "source": [
        "list2 = [\"Apple\", \"ABCD\"]\n",
        "Y = [\"iphone\", \"Banana\", \"Watermelon\", \"peech\"]\n",
        "L = list2 + Y\n",
        "print(\"Before copy :\", L)\n",
        "\n",
        "mylist = L.copy()\n",
        "print(\"After copy :\", mylist)"
      ],
      "metadata": {
        "colab": {
          "base_uri": "https://localhost:8080/"
        },
        "id": "ggEVHFk3WPem",
        "outputId": "319bbe93-ff37-4e85-d729-c26f1fff2005"
      },
      "execution_count": null,
      "outputs": [
        {
          "output_type": "stream",
          "name": "stdout",
          "text": [
            "Before copy : ['Apple', 'ABCD', 'iphone', 'Banana', 'Watermelon', 'peech']\n",
            "After copy : ['Apple', 'ABCD', 'iphone', 'Banana', 'Watermelon', 'peech']\n"
          ]
        }
      ]
    },
    {
      "cell_type": "markdown",
      "source": [
        "**Tuples**"
      ],
      "metadata": {
        "id": "4U1sSGbCUruC"
      }
    },
    {
      "cell_type": "code",
      "source": [
        "Tuple = (\"apple\", \"banana\", \"cherry\")\n",
        "print(Tuple[1])"
      ],
      "metadata": {
        "id": "l5kJbkxRXYxK",
        "colab": {
          "base_uri": "https://localhost:8080/"
        },
        "outputId": "63e0374f-34a0-430e-a4f8-f09fbf2b3aee"
      },
      "execution_count": 1,
      "outputs": [
        {
          "output_type": "stream",
          "name": "stdout",
          "text": [
            "banana\n"
          ]
        }
      ]
    },
    {
      "cell_type": "code",
      "source": [
        "print(len(Tuple))"
      ],
      "metadata": {
        "colab": {
          "base_uri": "https://localhost:8080/"
        },
        "id": "ANXi-C_AVLry",
        "outputId": "75dea7d7-1d01-4040-bab4-fd05242caa37"
      },
      "execution_count": 2,
      "outputs": [
        {
          "output_type": "stream",
          "name": "stdout",
          "text": [
            "3\n"
          ]
        }
      ]
    },
    {
      "cell_type": "code",
      "source": [
        "Tuple = tuple((1,2,3,4))\n",
        "print(Tuple)"
      ],
      "metadata": {
        "colab": {
          "base_uri": "https://localhost:8080/"
        },
        "id": "TlsBoEDhVQlv",
        "outputId": "c00bdbd8-cfd0-4d9c-fd70-4c43b2090008"
      },
      "execution_count": 3,
      "outputs": [
        {
          "output_type": "stream",
          "name": "stdout",
          "text": [
            "(1, 2, 3, 4)\n"
          ]
        }
      ]
    },
    {
      "cell_type": "code",
      "source": [
        "Tuple = (\"apple\", \"banana\", \"cherry\")\n",
        "print(Tuple[-1])\n",
        "\n",
        "\n",
        "print(Tuple[:-2])"
      ],
      "metadata": {
        "colab": {
          "base_uri": "https://localhost:8080/"
        },
        "id": "Wbg_CBJWVe42",
        "outputId": "e085ef94-8004-496e-f83a-92b58ac7b563"
      },
      "execution_count": 10,
      "outputs": [
        {
          "output_type": "stream",
          "name": "stdout",
          "text": [
            "cherry\n",
            "('apple',)\n"
          ]
        }
      ]
    },
    {
      "cell_type": "code",
      "source": [
        "thistuple = (\"apple\", \"banana\", \"cherry\", \"orange\", \"kiwi\", \"melon\", \"mango\")\n",
        "print(thistuple[3:6])"
      ],
      "metadata": {
        "colab": {
          "base_uri": "https://localhost:8080/"
        },
        "id": "SsRuMZw2VneD",
        "outputId": "ef1819c6-23b5-46b1-a4c2-c4336ba55a19"
      },
      "execution_count": 13,
      "outputs": [
        {
          "output_type": "stream",
          "name": "stdout",
          "text": [
            "('orange', 'kiwi', 'melon')\n"
          ]
        }
      ]
    },
    {
      "cell_type": "markdown",
      "source": [
        "Update tuple"
      ],
      "metadata": {
        "id": "TFxR5lTUWVUn"
      }
    },
    {
      "cell_type": "code",
      "source": [
        "X = (\"apple\", \"banana\", \"cherry\", \"orange\", \"kiwi\", \"melon\", \"mango\")\n",
        "Y = list(X)\n",
        "\n",
        "Y[3] = \"Blackcurrent\"\n",
        "X = tuple(Y)\n",
        "print(X)"
      ],
      "metadata": {
        "colab": {
          "base_uri": "https://localhost:8080/"
        },
        "id": "7pNzewujWBJr",
        "outputId": "55e3d940-112a-4802-92f4-0e1112911045"
      },
      "execution_count": 15,
      "outputs": [
        {
          "output_type": "stream",
          "name": "stdout",
          "text": [
            "('apple', 'banana', 'cherry', 'Blackcurrent', 'kiwi', 'melon', 'mango')\n"
          ]
        }
      ]
    },
    {
      "cell_type": "code",
      "source": [
        "A = (\"apple\", \"banana\", \"cherry\", \"orange\", \"kiwi\", \"melon\", \"mango\")\n",
        "B = list(A)\n",
        "\n",
        "B.append(\"Cucumber\")\n",
        "A = tuple(B)\n",
        "\n",
        "print(B)"
      ],
      "metadata": {
        "colab": {
          "base_uri": "https://localhost:8080/"
        },
        "id": "LSqJg92UWp5F",
        "outputId": "88735883-fced-4994-c7cf-779c180ac377"
      },
      "execution_count": 17,
      "outputs": [
        {
          "output_type": "stream",
          "name": "stdout",
          "text": [
            "['apple', 'banana', 'cherry', 'orange', 'kiwi', 'melon', 'mango', 'Cucumber']\n"
          ]
        }
      ]
    },
    {
      "cell_type": "code",
      "source": [
        "num = (1, 2, 3, 4, \"Abdullah\")\n",
        "Fruits = (\"apple\", \"banana\", \"cherry\", \"orange\", \"kiwi\", \"melon\", \"mango\")\n",
        "num += Fruits\n",
        "#num = num + Fruits\n",
        "\n",
        "print(newtuple)"
      ],
      "metadata": {
        "colab": {
          "base_uri": "https://localhost:8080/"
        },
        "id": "ivPnykzqXb-n",
        "outputId": "42c01672-c1ce-4cc7-bb14-98f91fceecf5"
      },
      "execution_count": 23,
      "outputs": [
        {
          "output_type": "stream",
          "name": "stdout",
          "text": [
            "(1, 2, 3, 4, 'Abdullah', 'apple', 'banana', 'cherry', 'orange', 'kiwi', 'melon', 'mango')\n"
          ]
        }
      ]
    },
    {
      "cell_type": "code",
      "source": [
        "value = (2, 90, \"Abdullah\", \"ABC\")\n",
        "Z = list(value)\n",
        "\n",
        "Z.remove(\"ABC\")\n",
        "value = tuple(Z)\n",
        "\n",
        "print(value)\n",
        "\n",
        "del Z\n",
        "print(Z)"
      ],
      "metadata": {
        "colab": {
          "base_uri": "https://localhost:8080/",
          "height": 193
        },
        "id": "R9aaXrjPX3Rq",
        "outputId": "7aabefa0-df56-461f-f52f-aae7121acb62"
      },
      "execution_count": 26,
      "outputs": [
        {
          "output_type": "stream",
          "name": "stdout",
          "text": [
            "(2, 90, 'Abdullah')\n"
          ]
        },
        {
          "output_type": "error",
          "ename": "NameError",
          "evalue": "name 'Z' is not defined",
          "traceback": [
            "\u001b[0;31m---------------------------------------------------------------------------\u001b[0m",
            "\u001b[0;31mNameError\u001b[0m                                 Traceback (most recent call last)",
            "\u001b[0;32m/tmp/ipython-input-4152776708.py\u001b[0m in \u001b[0;36m<cell line: 0>\u001b[0;34m()\u001b[0m\n\u001b[1;32m      8\u001b[0m \u001b[0;34m\u001b[0m\u001b[0m\n\u001b[1;32m      9\u001b[0m \u001b[0;32mdel\u001b[0m \u001b[0mZ\u001b[0m\u001b[0;34m\u001b[0m\u001b[0;34m\u001b[0m\u001b[0m\n\u001b[0;32m---> 10\u001b[0;31m \u001b[0mprint\u001b[0m\u001b[0;34m(\u001b[0m\u001b[0mZ\u001b[0m\u001b[0;34m)\u001b[0m\u001b[0;34m\u001b[0m\u001b[0;34m\u001b[0m\u001b[0m\n\u001b[0m",
            "\u001b[0;31mNameError\u001b[0m: name 'Z' is not defined"
          ]
        }
      ]
    },
    {
      "cell_type": "code",
      "source": [
        "fruits = (\"apple\", \"banana\", \"cherry\", \"strawberry\", \"raspberry\")\n",
        "\n",
        "(green, *yellow, red) = fruits\n",
        "\n",
        "print(green)\n",
        "print(yellow)\n",
        "print(red)"
      ],
      "metadata": {
        "colab": {
          "base_uri": "https://localhost:8080/"
        },
        "id": "2JE9nE4aY5aa",
        "outputId": "2ece1ff7-1304-431c-f641-12f8e1dea054"
      },
      "execution_count": 28,
      "outputs": [
        {
          "output_type": "stream",
          "name": "stdout",
          "text": [
            "apple\n",
            "['banana', 'cherry', 'strawberry']\n",
            "raspberry\n"
          ]
        }
      ]
    },
    {
      "cell_type": "code",
      "source": [
        "fruits = (\"apple\", \"banana\", \"cherry\", \"strawberry\", \"raspberry\")\n",
        "for i in fruits:\n",
        " print(i)"
      ],
      "metadata": {
        "colab": {
          "base_uri": "https://localhost:8080/"
        },
        "id": "_-wIrA7YZH_W",
        "outputId": "500817d9-9846-4b98-9f85-109b3b35d219"
      },
      "execution_count": 30,
      "outputs": [
        {
          "output_type": "stream",
          "name": "stdout",
          "text": [
            "apple\n",
            "banana\n",
            "cherry\n",
            "strawberry\n",
            "raspberry\n"
          ]
        }
      ]
    },
    {
      "cell_type": "code",
      "source": [],
      "metadata": {
        "id": "D8cw7QoGapZn"
      },
      "execution_count": null,
      "outputs": []
    }
  ]
}