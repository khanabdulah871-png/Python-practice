{
  "nbformat": 4,
  "nbformat_minor": 0,
  "metadata": {
    "colab": {
      "provenance": [],
      "authorship_tag": "ABX9TyPwszVI5/eiaapyF8DhbuhV",
      "include_colab_link": true
    },
    "kernelspec": {
      "name": "python3",
      "display_name": "Python 3"
    },
    "language_info": {
      "name": "python"
    }
  },
  "cells": [
    {
      "cell_type": "markdown",
      "metadata": {
        "id": "view-in-github",
        "colab_type": "text"
      },
      "source": [
        "<a href=\"https://colab.research.google.com/github/khanabdulah871-png/Python-practice/blob/main/pythonpractice.ipynb\" target=\"_parent\"><img src=\"https://colab.research.google.com/assets/colab-badge.svg\" alt=\"Open In Colab\"/></a>"
      ]
    },
    {
      "cell_type": "code",
      "execution_count": null,
      "metadata": {
        "colab": {
          "base_uri": "https://localhost:8080/"
        },
        "id": "Z-IvzADYFMPO",
        "outputId": "beba2d54-06c1-4063-fb1d-33da9faae615"
      },
      "outputs": [
        {
          "output_type": "stream",
          "name": "stdout",
          "text": [
            "stack: [10, 20, 30, 40]\n"
          ]
        }
      ],
      "source": [
        "stack = []\n",
        "stack.append(10)\n",
        "stack.append(20)\n",
        "stack.append(30)\n",
        "stack.append(40)\n",
        "print(\"stack:\", stack)"
      ]
    },
    {
      "cell_type": "code",
      "source": [
        "class queue:\n",
        "  def __init__(self):\n",
        "    self.queue = []\n",
        "\n",
        "  def enqueue(self, element):\n",
        "    self.queue.append(element)\n",
        "\n",
        "  def dequeue(self):\n",
        "    if self.isempty():\n",
        "      return \"queue is empty\"\n",
        "    return self.queue.pop()\n",
        "\n",
        "  def peek(self):\n",
        "    if self.isempty():\n",
        "      return \"queue is empty\"\n",
        "    return self.queue[0]\n",
        "\n",
        "  def isempty(self):\n",
        "    return len(self.queue)==0\n",
        "\n",
        "  def size(self):\n",
        "    return len(self.queue)\n",
        "\n",
        "\n",
        "q=queue()\n",
        "\n",
        "\n",
        "q.enqueue(10)\n",
        "q.enqueue(20)\n",
        "q.enqueue(30)\n",
        "q.enqueue(40)\n",
        "\n",
        "\n",
        "print(\"queue:\", q.queue)\n",
        "print(\"pop:\", q.dequeue())\n",
        "print(\"queue after dequeue:\", q.queue)\n",
        "print(\"peek:\", q.peek())\n",
        "print(\"isempty:\", q.isempty())\n",
        "print(\"size:\", q.size())\n",
        "\n",
        "\n",
        "\n",
        "\n"
      ],
      "metadata": {
        "colab": {
          "base_uri": "https://localhost:8080/"
        },
        "id": "Mc-6gVinGnhA",
        "outputId": "078e9919-50ac-4fbe-db12-38298843479e"
      },
      "execution_count": null,
      "outputs": [
        {
          "output_type": "stream",
          "name": "stdout",
          "text": [
            "queue: [10, 20, 30, 40]\n",
            "pop: 40\n",
            "queue after dequeue: [10, 20, 30]\n",
            "peek: 10\n",
            "isempty: False\n",
            "size: 3\n"
          ]
        }
      ]
    },
    {
      "cell_type": "code",
      "source": [],
      "metadata": {
        "id": "9cAFKfpkLs8k"
      },
      "execution_count": null,
      "outputs": []
    }
  ]
}